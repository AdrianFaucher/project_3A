{
 "cells": [
  {
   "cell_type": "code",
   "execution_count": 15,
   "id": "83ddf050",
   "metadata": {},
   "outputs": [],
   "source": [
    "import pandas as pd\n",
    "import numpy as np\n",
    "from matplotlib import pyplot as plt\n",
    "from matplotlib.animation import FuncAnimation\n",
    "from IPython.display import HTML\n",
    "from src.data_reading import parse_galaxy_data\n",
    "from src.data_treatment_tools import add_radian_columns, new_CoM_procedure "
   ]
  },
  {
   "cell_type": "code",
   "execution_count": 16,
   "id": "314215bc",
   "metadata": {},
   "outputs": [],
   "source": [
    "# G= 6.674 * 10**(-11)\n",
    "G = 4.3009e-9  # Constante gravitationnelle en (km/s)² Mpc / M☉\n",
    "galaxy_1_CoM =  \"N5128,Cen A\"\n",
    "galaxy_2_CoM =  \"N5236, M83\"\n",
    "r=0.76"
   ]
  },
  {
   "cell_type": "code",
   "execution_count": 17,
   "id": "05a358b4",
   "metadata": {},
   "outputs": [],
   "source": [
    "file_path = 'data/data_clean.txt'\n",
    "galaxy_df = parse_galaxy_data(file_path)\n",
    "add_radian_columns(galaxy_df)\n",
    "# galaxy_df.to_csv(\"test.csv\")"
   ]
  },
  {
   "cell_type": "code",
   "execution_count": 18,
   "id": "6e799845",
   "metadata": {},
   "outputs": [
    {
     "name": "stdout",
     "output_type": "stream",
     "text": [
      "CoM_N5128,Cen A_N5236, M83_0.76\n"
     ]
    },
    {
     "name": "stderr",
     "output_type": "stream",
     "text": [
      "c:\\Users\\Adrian\\Documents\\X\\Stage 3A recherche\\projet\\project_3A\\src\\data_treatment_tools.py:78: FutureWarning: Setting an item of incompatible dtype is deprecated and will raise an error in a future version of pandas. Value '300.19228135818446' has dtype incompatible with int64, please explicitly cast to a compatible dtype first.\n",
      "  df.loc[len(df)] = new_row\n"
     ]
    }
   ],
   "source": [
    "new_CoM_procedure(galaxy_df,galaxy1=galaxy_1_CoM,galaxy2=galaxy_2_CoM,m1_barre=r)"
   ]
  },
  {
   "cell_type": "code",
   "execution_count": 66,
   "id": "e0c4d72b",
   "metadata": {},
   "outputs": [],
   "source": [
    "### cuts\n",
    "velocity_max = 300\n",
    "velocity_min = -100\n",
    "\n",
    "distance_max = 2\n"
   ]
  },
  {
   "cell_type": "code",
   "execution_count": 67,
   "id": "019457d8",
   "metadata": {},
   "outputs": [],
   "source": [
    "def Viriel_Mass(df,velocity, galaxy_excluded,row_name=\"CoM_N5128,Cen A_N5236, M83_0.76\"):\n",
    "    mask = (\n",
    "    (~df['Name'].str.startswith('CoM_')) & \n",
    "    (~df['Name'].isin(galaxy_excluded))  &\n",
    "    (df[velocity+\"_\"+row_name] >= velocity_min)  &\n",
    "    (df[velocity+\"_\"+row_name] <= velocity_max)   &\n",
    "    (df[\"dis_center_\"+row_name]<= distance_max)\n",
    "    )\n",
    "    sigma_v=(df[mask][velocity+\"_\"+row_name] ** 2).mean()\n",
    "    R_g=1/((1/df[mask][\"dis_center_\"+row_name]).mean())\n",
    "    return (3/G)*sigma_v*R_g"
   ]
  },
  {
   "cell_type": "code",
   "execution_count": 79,
   "id": "d93ed173",
   "metadata": {},
   "outputs": [
    {
     "name": "stdout",
     "output_type": "stream",
     "text": [
      "The Virial Mass according to the minor infall model with a bound system of 2 Mpc is: 3.43e+12 M_⊙\n"
     ]
    }
   ],
   "source": [
    "M_minor= Viriel_Mass(galaxy_df,velocity=\"minor_infall_velocity\",galaxy_excluded=[galaxy_1_CoM,galaxy_2_CoM])\n",
    "print(f\"The Virial Mass according to the minor infall model with a bound system of {distance_max} Mpc is: {M_minor:.2e} M_⊙\")"
   ]
  },
  {
   "cell_type": "code",
   "execution_count": 81,
   "id": "2b5d0525",
   "metadata": {},
   "outputs": [
    {
     "name": "stdout",
     "output_type": "stream",
     "text": [
      "The Virial Mass according to the major infall model with a bound system of 2 Mpc is: 6.87e+12 M_⊙\n"
     ]
    }
   ],
   "source": [
    "M_major= Viriel_Mass(galaxy_df,velocity=\"major_infall_velocity\",galaxy_excluded=[galaxy_1_CoM,galaxy_2_CoM])\n",
    "print(f\"The Virial Mass according to the major infall model with a bound system of {distance_max} Mpc is: {M_major:.2e} M_⊙\")"
   ]
  },
  {
   "cell_type": "code",
   "execution_count": null,
   "id": "b05c857e",
   "metadata": {},
   "outputs": [],
   "source": []
  }
 ],
 "metadata": {
  "kernelspec": {
   "display_name": "Python 3",
   "language": "python",
   "name": "python3"
  },
  "language_info": {
   "codemirror_mode": {
    "name": "ipython",
    "version": 3
   },
   "file_extension": ".py",
   "mimetype": "text/x-python",
   "name": "python",
   "nbconvert_exporter": "python",
   "pygments_lexer": "ipython3",
   "version": "3.12.10"
  }
 },
 "nbformat": 4,
 "nbformat_minor": 5
}
