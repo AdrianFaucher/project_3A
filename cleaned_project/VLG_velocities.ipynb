{
 "cells": [
  {
   "cell_type": "code",
   "execution_count": 1,
   "id": "39e37baa",
   "metadata": {},
   "outputs": [
    {
     "name": "stdout",
     "output_type": "stream",
     "text": [
      "Saved corrected velocities to new_data_lg.csv\n"
     ]
    }
   ],
   "source": [
    "import pandas as pd\n",
    "from astropy.coordinates import SkyCoord\n",
    "import astropy.units as u\n",
    "import numpy as np\n",
    "\n",
    "# Load the CSV file\n",
    "df = pd.read_csv(\"data/new_data.csv\")\n",
    "\n",
    "# Define the solar motion with respect to the Local Group (LG)\n",
    "V_sun_LG = 316.0  # km/s\n",
    "l_sun = 93.0 * u.deg\n",
    "b_sun = -4.0 * u.deg\n",
    "\n",
    "# Convert Sun's direction to Cartesian unit vector\n",
    "sun_coord = SkyCoord(l=l_sun, b=b_sun, frame='galactic')\n",
    "sun_vec = np.array([\n",
    "    np.cos(sun_coord.b.radian) * np.cos(sun_coord.l.radian),\n",
    "    np.cos(sun_coord.b.radian) * np.sin(sun_coord.l.radian),\n",
    "    np.sin(sun_coord.b.radian)\n",
    "])\n",
    "\n",
    "# Create SkyCoord object for each galaxy and convert to galactic coordinates\n",
    "gal_coords = SkyCoord(ra=df['RA'].values * u.deg, dec=df['Dec'].values * u.deg, frame='icrs')\n",
    "gal_l = gal_coords.galactic.l.radian\n",
    "gal_b = gal_coords.galactic.b.radian\n",
    "\n",
    "# Line-of-sight unit vector for each galaxy\n",
    "los_vec = np.array([\n",
    "    np.cos(gal_b) * np.cos(gal_l),\n",
    "    np.cos(gal_b) * np.sin(gal_l),\n",
    "    np.sin(gal_b)\n",
    "]).T  # shape: (N, 3)\n",
    "\n",
    "# Dot product between LOS and sun motion vector to get the projected velocity\n",
    "projection = np.dot(los_vec, sun_vec)\n",
    "v_correction = V_sun_LG * projection\n",
    "\n",
    "# Apply the correction\n",
    "df['V_h'] = df['V_h'] + v_correction\n",
    "df['e_V_LG'] = df['e_V_h']  # Error remains unchanged (assuming negligible propagation)\n",
    "\n",
    "# Optionally, drop old columns or keep both\n",
    "# df.drop(columns=['V_h', 'e_V_h'], inplace=True)\n",
    "\n",
    "# Save to a new CSV file\n",
    "df.to_csv(\"data/new_data_lg.csv\", index=False)\n",
    "print(\"Saved corrected velocities to new_data_lg.csv\")\n"
   ]
  },
  {
   "cell_type": "code",
   "execution_count": 1,
   "id": "56648216",
   "metadata": {},
   "outputs": [
    {
     "name": "stdout",
     "output_type": "stream",
     "text": [
      "Saved corrected velocities to new_data_cmb.csv\n"
     ]
    }
   ],
   "source": [
    "import pandas as pd\n",
    "from astropy.coordinates import SkyCoord\n",
    "import astropy.units as u\n",
    "import numpy as np\n",
    "\n",
    "# Load the CSV file\n",
    "df = pd.read_csv(\"data/new_data.csv\")\n",
    "\n",
    "# Define the solar motion with respect to the CMB\n",
    "V_sun_CMB = 369.0  # km/s\n",
    "l_cmb = 264.14 * u.deg\n",
    "b_cmb = 48.26 * u.deg\n",
    "\n",
    "# Convert Sun's motion direction to Cartesian unit vector\n",
    "cmb_coord = SkyCoord(l=l_cmb, b=b_cmb, frame='galactic')\n",
    "cmb_vec = np.array([\n",
    "    np.cos(cmb_coord.b.radian) * np.cos(cmb_coord.l.radian),\n",
    "    np.cos(cmb_coord.b.radian) * np.sin(cmb_coord.l.radian),\n",
    "    np.sin(cmb_coord.b.radian)\n",
    "])\n",
    "\n",
    "# Create SkyCoord object for each galaxy and convert to galactic coordinates\n",
    "gal_coords = SkyCoord(ra=df['RA'].values * u.deg, dec=df['Dec'].values * u.deg, frame='icrs')\n",
    "gal_l = gal_coords.galactic.l.radian\n",
    "gal_b = gal_coords.galactic.b.radian\n",
    "\n",
    "# Line-of-sight unit vector for each galaxy\n",
    "los_vec = np.array([\n",
    "    np.cos(gal_b) * np.cos(gal_l),\n",
    "    np.cos(gal_b) * np.sin(gal_l),\n",
    "    np.sin(gal_b)\n",
    "]).T  # shape: (N, 3)\n",
    "\n",
    "# Dot product between LOS and solar motion vector to get the projected velocity\n",
    "projection = np.dot(los_vec, cmb_vec)\n",
    "v_correction = V_sun_CMB * projection\n",
    "\n",
    "# Apply the correction\n",
    "df['V_h'] = df['V_h'] + v_correction\n",
    "df['e_V_h'] = df['e_V_h']  # Assuming error remains unchanged\n",
    "\n",
    "# Save to a new CSV file\n",
    "df.to_csv(\"data/new_data_cmb.csv\", index=False)\n",
    "print(\"Saved corrected velocities to new_data_cmb.csv\")\n"
   ]
  }
 ],
 "metadata": {
  "kernelspec": {
   "display_name": "Python 3",
   "language": "python",
   "name": "python3"
  },
  "language_info": {
   "codemirror_mode": {
    "name": "ipython",
    "version": 3
   },
   "file_extension": ".py",
   "mimetype": "text/x-python",
   "name": "python",
   "nbconvert_exporter": "python",
   "pygments_lexer": "ipython3",
   "version": "3.12.10"
  }
 },
 "nbformat": 4,
 "nbformat_minor": 5
}
