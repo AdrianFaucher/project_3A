{
 "cells": [
  {
   "cell_type": "code",
   "execution_count": 5,
   "id": "a42e697f",
   "metadata": {},
   "outputs": [],
   "source": [
    "import pandas as pd\n",
    "\n",
    "def comparer_pgc(csv1, csv2):\n",
    "    \"\"\"\n",
    "    Affiche les valeurs de la colonne 'PGC' qui sont présentes dans csv1 mais pas dans csv2.\n",
    "\n",
    "    :param csv1: chemin vers le premier fichier CSV\n",
    "    :param csv2: chemin vers le deuxième fichier CSV\n",
    "    \"\"\"\n",
    "    # Lecture des fichiers\n",
    "    df1 = pd.read_csv(csv1)\n",
    "    df2 = pd.read_csv(csv2)\n",
    "\n",
    "    # Vérification que la colonne 'PGC' existe\n",
    "    if 'PGC' not in df1.columns or 'PGC' not in df2.columns:\n",
    "        print(\"Erreur : la colonne 'PGC' est manquante dans l'un des fichiers.\")\n",
    "        return\n",
    "\n",
    "    # Conversion en ensembles pour comparaison\n",
    "    pgc1 = set(df1['PGC'].dropna().astype(str))\n",
    "    pgc2 = set(df2['PGC'].dropna().astype(str))\n",
    "\n",
    "    # Différence entre les deux ensembles\n",
    "    difference = pgc1 - pgc2\n",
    "\n",
    "    # Affichage des résultats\n",
    "    if difference:\n",
    "        print(\"Valeurs de PGC présentes dans le premier fichier mais pas dans le deuxième :\")\n",
    "        for pgc in sorted(difference):\n",
    "            print(pgc)\n",
    "    else:\n",
    "        print(\"Toutes les valeurs de PGC du premier fichier sont présentes dans le deuxième.\")\n",
    "\n",
    "# Exemple d'utilisation\n",
    "# comparer_pgc(\"fichier1.csv\", \"fichier2.csv\")\n"
   ]
  },
  {
   "cell_type": "code",
   "execution_count": 10,
   "id": "d3b4aa0d",
   "metadata": {},
   "outputs": [
    {
     "name": "stdout",
     "output_type": "stream",
     "text": [
      "Valeurs de PGC présentes dans le premier fichier mais pas dans le deuxième :\n",
      "PGC128\n",
      "PGC3769\n",
      "PGC48111\n",
      "PGC50961\n",
      "PGC69519\n"
     ]
    }
   ],
   "source": [
    "comparer_pgc(\"updated_data.csv\",\"EDD_data_TRGB.csv\")"
   ]
  }
 ],
 "metadata": {
  "kernelspec": {
   "display_name": "Python 3",
   "language": "python",
   "name": "python3"
  },
  "language_info": {
   "codemirror_mode": {
    "name": "ipython",
    "version": 3
   },
   "file_extension": ".py",
   "mimetype": "text/x-python",
   "name": "python",
   "nbconvert_exporter": "python",
   "pygments_lexer": "ipython3",
   "version": "3.12.10"
  }
 },
 "nbformat": 4,
 "nbformat_minor": 5
}
