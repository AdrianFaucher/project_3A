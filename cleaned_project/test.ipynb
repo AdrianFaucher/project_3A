{
 "cells": [
  {
   "cell_type": "code",
   "execution_count": 1,
   "id": "97e64ec3",
   "metadata": {},
   "outputs": [],
   "source": [
    "import pandas as pd\n",
    "import numpy as np\n",
    "import importlib\n",
    "from src.data_reading import parse_galaxy_data\n",
    "from src.data_treatment_tools import add_radian_columns,add_CoM,add_angular_distance,add_distances,add_minor_infall_velocity,add_major_infall_velocity,new_CoM_procedure"
   ]
  },
  {
   "cell_type": "code",
   "execution_count": 2,
   "id": "37222902",
   "metadata": {},
   "outputs": [],
   "source": [
    "file_path = 'data/new_data.csv'\n",
    "galaxy_df = pd.read_csv(file_path)"
   ]
  },
  {
   "cell_type": "code",
   "execution_count": 3,
   "id": "649409db",
   "metadata": {},
   "outputs": [
    {
     "name": "stdout",
     "output_type": "stream",
     "text": [
      "                   Name         PGC        RA      Dec        Dis  e_Dis_min  \\\n",
      "0    6dFJ0956376-092911  PGC4078671  149.1567  -9.4863   9.162205   0.452569   \n",
      "1            AF7448_001  PGC5067080  344.8981  16.7654   7.798301   0.653338   \n",
      "2             AGC174585  PGC5060050  114.0429   9.9864   7.550922   0.372979   \n",
      "3             AGC174605  PGC5060076  117.5904   7.7944   9.375620   0.171124   \n",
      "4             AGC205315  PGC5057800  162.4683  12.5392  10.000000   0.493952   \n",
      "..                  ...         ...       ...      ...        ...        ...   \n",
      "166           dw1322-39         NaN  200.6336 -39.9060   2.950000   0.050000   \n",
      "167          dw1323-40a         NaN  201.2233 -40.7612   3.730000   0.150000   \n",
      "168          dw1323-40b         NaN  200.9809 -40.8361   3.910000   0.610000   \n",
      "169           dw1341-43         NaN  205.4032 -43.8553   3.530000   0.040000   \n",
      "170           dw1342-43         NaN  205.6837 -43.2548   2.900000   0.140000   \n",
      "\n",
      "     e_Dis_max ref_dis    V_h  e_V_h ref_V_h Source  Type  RA_radians  \\\n",
      "0     0.476085     CF4  621.0   41.0    LEDA    NaN   NaN    2.603276   \n",
      "1     0.713079     CF4  360.0    6.0    LEDA    NaN   NaN    6.019607   \n",
      "2     0.392360     CF4  356.0    8.0    LEDA    NaN   NaN    1.990424   \n",
      "3     0.174306     CF4  351.0    8.0    LEDA    NaN   NaN    2.052340   \n",
      "4     0.519619     CF4  779.0    8.0    LEDA    NaN   NaN    2.835607   \n",
      "..         ...     ...    ...    ...     ...    ...   ...         ...   \n",
      "166   0.050000     -10  656.0   10.0      -7  stars  dIrr    3.501717   \n",
      "167   0.150000     -10  450.0   14.0      -7  stars  dSph    3.512009   \n",
      "168   0.610000     -10  497.0   12.0      -7  stars  dSph    3.507778   \n",
      "169   0.040000     -10  636.0   14.0      -7  stars  dSph    3.584962   \n",
      "170   0.140000     -10  510.0    8.0      -7  stars    Tr    3.589858   \n",
      "\n",
      "     Dec_radians  \n",
      "0      -0.002890  \n",
      "1       0.005107  \n",
      "2       0.003042  \n",
      "3       0.002374  \n",
      "4       0.003820  \n",
      "..           ...  \n",
      "166    -0.012156  \n",
      "167    -0.012417  \n",
      "168    -0.012439  \n",
      "169    -0.013359  \n",
      "170    -0.013176  \n",
      "\n",
      "[171 rows x 15 columns]\n"
     ]
    }
   ],
   "source": [
    "add_radian_columns(galaxy_df)\n",
    "print(galaxy_df)"
   ]
  },
  {
   "cell_type": "code",
   "execution_count": 4,
   "id": "52bba00d",
   "metadata": {},
   "outputs": [],
   "source": [
    "galaxy1=\"NGC5128_CenA\"\n",
    "galaxy2=\"NGC5236_M83\"\n",
    "r=0.76\n",
    "CoM_Name=\"CoM_CenA_M83_0.76\""
   ]
  },
  {
   "cell_type": "code",
   "execution_count": 5,
   "id": "af55eba9",
   "metadata": {},
   "outputs": [],
   "source": [
    "add_CoM(galaxy_df,galaxy1,galaxy2,r,row_name=CoM_Name)"
   ]
  },
  {
   "cell_type": "code",
   "execution_count": 6,
   "id": "b2f283d0",
   "metadata": {},
   "outputs": [],
   "source": [
    "add_angular_distance(galaxy_df,galaxy_center=CoM_Name)"
   ]
  },
  {
   "cell_type": "code",
   "execution_count": 7,
   "id": "a9ce958e",
   "metadata": {},
   "outputs": [],
   "source": [
    "add_distances(galaxy_df,galaxy_center=CoM_Name,grid_incertainty=True)"
   ]
  },
  {
   "cell_type": "code",
   "execution_count": 8,
   "id": "a4e51e67",
   "metadata": {},
   "outputs": [],
   "source": [
    "add_minor_infall_velocity(galaxy_df,galaxy_center=CoM_Name,grid_incertainty=False)"
   ]
  },
  {
   "cell_type": "code",
   "execution_count": 11,
   "id": "0330e4be",
   "metadata": {},
   "outputs": [],
   "source": [
    "add_major_infall_velocity(galaxy_df,galaxy_center=CoM_Name,grid_incertainty=True)"
   ]
  },
  {
   "cell_type": "code",
   "execution_count": 5,
   "id": "71785d97",
   "metadata": {},
   "outputs": [
    {
     "name": "stdout",
     "output_type": "stream",
     "text": [
      "CoM_NGC5128_CenA_NGC5236_M83_0.76\n"
     ]
    }
   ],
   "source": [
    "new_CoM_procedure(galaxy_df,galaxy1,galaxy2,r,grid_incertainty=True)"
   ]
  },
  {
   "cell_type": "code",
   "execution_count": 7,
   "id": "4888eb10",
   "metadata": {},
   "outputs": [
    {
     "name": "stdout",
     "output_type": "stream",
     "text": [
      "Index(['Name', 'PGC', 'RA', 'Dec', 'Dis', 'e_Dis_min', 'e_Dis_max', 'ref_dis',\n",
      "       'V_h', 'e_V_h', 'ref_V_h', 'Source', 'Type', 'RA_radians',\n",
      "       'Dec_radians', 'cos_theta_CoM_NGC5128_CenA_NGC5236_M83_0.76',\n",
      "       'angular_distance_CoM_NGC5128_CenA_NGC5236_M83_0.76',\n",
      "       'dis_center_CoM_NGC5128_CenA_NGC5236_M83_0.76',\n",
      "       'e_dis_center_min_CoM_NGC5128_CenA_NGC5236_M83_0.76',\n",
      "       'e_dis_center_max_CoM_NGC5128_CenA_NGC5236_M83_0.76',\n",
      "       'major_infall_velocity_CoM_NGC5128_CenA_NGC5236_M83_0.76',\n",
      "       'e_major_infall_velocity_min_CoM_NGC5128_CenA_NGC5236_M83_0.76',\n",
      "       'e_major_infall_velocity_max_CoM_NGC5128_CenA_NGC5236_M83_0.76',\n",
      "       'minor_infall_velocity_CoM_NGC5128_CenA_NGC5236_M83_0.76',\n",
      "       'e_minor_infall_velocity_min_CoM_NGC5128_CenA_NGC5236_M83_0.76',\n",
      "       'e_minor_infall_velocity_max_CoM_NGC5128_CenA_NGC5236_M83_0.76'],\n",
      "      dtype='object')\n"
     ]
    }
   ],
   "source": [
    "print(galaxy_df.columns)\n",
    "galaxy_df.to_csv(\"test.csv\")"
   ]
  }
 ],
 "metadata": {
  "kernelspec": {
   "display_name": "Python 3",
   "language": "python",
   "name": "python3"
  },
  "language_info": {
   "codemirror_mode": {
    "name": "ipython",
    "version": 3
   },
   "file_extension": ".py",
   "mimetype": "text/x-python",
   "name": "python",
   "nbconvert_exporter": "python",
   "pygments_lexer": "ipython3",
   "version": "3.12.10"
  }
 },
 "nbformat": 4,
 "nbformat_minor": 5
}
