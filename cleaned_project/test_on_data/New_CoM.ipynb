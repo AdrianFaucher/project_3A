{
 "cells": [
  {
   "cell_type": "code",
   "execution_count": 5,
   "id": "c2e6d070",
   "metadata": {},
   "outputs": [],
   "source": [
    "import pandas as pd\n",
    "import numpy as np\n",
    "from src.data_treatment_tools import add_radian_columns,new_CoM_procedure"
   ]
  },
  {
   "cell_type": "code",
   "execution_count": 6,
   "id": "8d48c4c6",
   "metadata": {},
   "outputs": [],
   "source": [
    "file_path = 'data/new_data_filtre.csv'\n",
    "galaxy_df = pd.read_csv(file_path)\n",
    "add_radian_columns(galaxy_df)"
   ]
  },
  {
   "cell_type": "code",
   "execution_count": 7,
   "id": "5b10c619",
   "metadata": {},
   "outputs": [
    {
     "name": "stdout",
     "output_type": "stream",
     "text": [
      "CoM_CenA_M83_0.76\n"
     ]
    }
   ],
   "source": [
    "galaxy1=\"NGC5128_CenA\"\n",
    "galaxy2=\"NGC5236_M83\"\n",
    "r=0.76\n",
    "CoM_Name=\"CoM_CenA_M83_0.76\"\n",
    "new_CoM_procedure(galaxy_df,galaxy1,galaxy2,r,row_name=CoM_Name,grid_incertainty=True)"
   ]
  },
  {
   "cell_type": "code",
   "execution_count": 8,
   "id": "47b32a5b",
   "metadata": {},
   "outputs": [
    {
     "name": "stdout",
     "output_type": "stream",
     "text": [
      "Index(['Name', 'PGC', 'RA', 'Dec', 'Dis', 'e_Dis_min', 'e_Dis_max', 'ref_dis',\n",
      "       'V_h', 'e_V_h', 'ref_V_h', 'Source', 'Type', 'e_V_LG', 'RA_radians',\n",
      "       'Dec_radians', 'cos_theta_CoM_CenA_M83_0.76',\n",
      "       'angular_distance_CoM_CenA_M83_0.76', 'dis_center_CoM_CenA_M83_0.76',\n",
      "       'e_dis_center_min_CoM_CenA_M83_0.76',\n",
      "       'e_dis_center_max_CoM_CenA_M83_0.76',\n",
      "       'major_infall_velocity_CoM_CenA_M83_0.76',\n",
      "       'e_major_infall_velocity_min_CoM_CenA_M83_0.76',\n",
      "       'e_major_infall_velocity_max_CoM_CenA_M83_0.76',\n",
      "       'minor_infall_velocity_CoM_CenA_M83_0.76',\n",
      "       'e_minor_infall_velocity_min_CoM_CenA_M83_0.76',\n",
      "       'e_minor_infall_velocity_max_CoM_CenA_M83_0.76'],\n",
      "      dtype='object')\n"
     ]
    }
   ],
   "source": [
    "print(galaxy_df.columns)\n",
    "galaxy_df.to_csv(\"data/data_\"+CoM_Name+\"_filtre.csv\")"
   ]
  }
 ],
 "metadata": {
  "kernelspec": {
   "display_name": "Python 3",
   "language": "python",
   "name": "python3"
  },
  "language_info": {
   "codemirror_mode": {
    "name": "ipython",
    "version": 3
   },
   "file_extension": ".py",
   "mimetype": "text/x-python",
   "name": "python",
   "nbconvert_exporter": "python",
   "pygments_lexer": "ipython3",
   "version": "3.12.10"
  }
 },
 "nbformat": 4,
 "nbformat_minor": 5
}
