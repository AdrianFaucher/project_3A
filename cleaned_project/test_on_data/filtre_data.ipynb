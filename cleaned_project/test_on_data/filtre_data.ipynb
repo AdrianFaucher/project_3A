{
 "cells": [
  {
   "cell_type": "code",
   "execution_count": null,
   "id": "713aeb84",
   "metadata": {},
   "outputs": [],
   "source": [
    "import pandas as pd\n",
    "\n",
    "# Lire le fichier CSV\n",
    "df = pd.read_csv('data/data_CoM_CenA_M83_0.76_lg.csv')\n",
    "\n",
    "# Filtrer pour ne garder que les lignes où ref_V_h vaut \"LEDA\"\n",
    "df_filtre = df[df['ref_V_h'] == 'LEDA']\n",
    "\n",
    "\n",
    "# \n",
    "# df_filtre = df[\n",
    "#     #(df['ref_V_h'] == 'LEDA') &\n",
    "#     (df['RA'] >= 105) & \n",
    "#     (df['RA'] <= 360) & \n",
    "#     (df['Dec'] >= -70) & \n",
    "#     (df['Dec'] <= 0)\n",
    "# ]\n",
    "df_filtre = df[\n",
    "    (df[\"dis_center_CoM_CenA_M83_0.76\"] < 7 )\n",
    "]\n",
    "\n",
    "\n",
    "# Sauvegarder le résultat\n",
    "df_filtre.to_csv('data/data_CoM_CenA_M83_0.76_lg_filtre.csv', index=False)"
   ]
  },
  {
   "cell_type": "code",
   "execution_count": 2,
   "id": "c6bd5384",
   "metadata": {},
   "outputs": [
    {
     "name": "stdout",
     "output_type": "stream",
     "text": [
      "Statistiques pour la colonne RA:\n",
      "Min: 105.1176\n",
      "Max: 359.6696\n",
      "\n",
      "Statistiques pour la colonne Dec:\n",
      "Min: -69.2014\n",
      "Max: -0.532\n",
      "               RA        Dec\n",
      "count   93.000000  93.000000\n",
      "mean   204.239383 -35.706674\n",
      "std     52.693618  14.328489\n",
      "min    105.117600 -69.201400\n",
      "25%    189.308500 -44.890000\n",
      "50%    200.508600 -36.061400\n",
      "75%    207.191700 -28.894200\n",
      "max    359.669600  -0.532000\n"
     ]
    }
   ],
   "source": [
    "\n",
    "\n",
    "# Analyser les colonnes RA et Dec\n",
    "print(\"Statistiques pour la colonne RA:\")\n",
    "print(f\"Min: {df_filtre['RA'].min()}\")\n",
    "print(f\"Max: {df_filtre['RA'].max()}\")\n",
    "\n",
    "print(\"\\nStatistiques pour la colonne Dec:\")\n",
    "print(f\"Min: {df_filtre['Dec'].min()}\")\n",
    "print(f\"Max: {df_filtre['Dec'].max()}\")\n",
    "\n",
    "# Afficher quelques statistiques supplémentaires\n",
    "print(df_filtre[['RA', 'Dec']].describe())"
   ]
  }
 ],
 "metadata": {
  "kernelspec": {
   "display_name": "Python 3",
   "language": "python",
   "name": "python3"
  },
  "language_info": {
   "codemirror_mode": {
    "name": "ipython",
    "version": 3
   },
   "file_extension": ".py",
   "mimetype": "text/x-python",
   "name": "python",
   "nbconvert_exporter": "python",
   "pygments_lexer": "ipython3",
   "version": "3.12.10"
  }
 },
 "nbformat": 4,
 "nbformat_minor": 5
}
