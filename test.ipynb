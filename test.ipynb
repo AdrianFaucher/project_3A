{
 "cells": [
  {
   "cell_type": "code",
   "execution_count": 2,
   "id": "4e517208",
   "metadata": {},
   "outputs": [
    {
     "name": "stdout",
     "output_type": "stream",
     "text": [
      "Defaulting to user installation because normal site-packages is not writeable\n",
      "Collecting astropy\n",
      "  Downloading astropy-7.0.1-cp312-cp312-win_amd64.whl.metadata (10 kB)\n",
      "Requirement already satisfied: numpy>=1.23.2 in c:\\users\\adrian\\appdata\\local\\packages\\pythonsoftwarefoundation.python.3.12_qbz5n2kfra8p0\\localcache\\local-packages\\python312\\site-packages (from astropy) (2.0.2)\n",
      "Collecting pyerfa>=2.0.1.1 (from astropy)\n",
      "  Downloading pyerfa-2.0.1.5-cp39-abi3-win_amd64.whl.metadata (5.9 kB)\n",
      "Collecting astropy-iers-data>=0.2025.1.31.12.41.4 (from astropy)\n",
      "  Downloading astropy_iers_data-0.2025.4.7.0.35.30-py3-none-any.whl.metadata (5.1 kB)\n",
      "Requirement already satisfied: PyYAML>=6.0.0 in c:\\users\\adrian\\appdata\\local\\packages\\pythonsoftwarefoundation.python.3.12_qbz5n2kfra8p0\\localcache\\local-packages\\python312\\site-packages (from astropy) (6.0.2)\n",
      "Requirement already satisfied: packaging>=22.0.0 in c:\\users\\adrian\\appdata\\local\\packages\\pythonsoftwarefoundation.python.3.12_qbz5n2kfra8p0\\localcache\\local-packages\\python312\\site-packages (from astropy) (24.1)\n",
      "Downloading astropy-7.0.1-cp312-cp312-win_amd64.whl (6.5 MB)\n",
      "   ---------------------------------------- 0.0/6.5 MB ? eta -:--:--\n",
      "   --------------------------------- ------ 5.5/6.5 MB 30.5 MB/s eta 0:00:01\n",
      "   ---------------------------------------- 6.5/6.5 MB 18.1 MB/s eta 0:00:00\n",
      "Downloading astropy_iers_data-0.2025.4.7.0.35.30-py3-none-any.whl (2.0 MB)\n",
      "   ---------------------------------------- 0.0/2.0 MB ? eta -:--:--\n",
      "   ---------------------------------------- 2.0/2.0 MB 15.5 MB/s eta 0:00:00\n",
      "Downloading pyerfa-2.0.1.5-cp39-abi3-win_amd64.whl (349 kB)\n",
      "Installing collected packages: pyerfa, astropy-iers-data, astropy\n",
      "Successfully installed astropy-7.0.1 astropy-iers-data-0.2025.4.7.0.35.30 pyerfa-2.0.1.5\n"
     ]
    }
   ],
   "source": [
    "!pip install astropy"
   ]
  },
  {
   "cell_type": "code",
   "execution_count": 3,
   "id": "f057bdde",
   "metadata": {},
   "outputs": [
    {
     "name": "stdout",
     "output_type": "stream",
     "text": [
      "---- Résultats ----\n",
      "RA  (HMS) : 13:29:23.13\n",
      "Dec (DMS): -39:03:58.18\n"
     ]
    },
    {
     "data": {
      "text/plain": [
       "(np.str_('13:29:23.13'), np.str_('-39:03:58.18'))"
      ]
     },
     "execution_count": 3,
     "metadata": {},
     "output_type": "execute_result"
    }
   ],
   "source": [
    "from astropy.coordinates import Angle\n",
    "import astropy.units as u\n",
    "import numpy as np\n",
    "\n",
    "def convert_deg_to_ra_dec(ra_deg, dec_deg):\n",
    "    \"\"\"\n",
    "    Convertit des coordonnées en degrés en RA (HMS) et Dec (DMS)\n",
    "\n",
    "    :param ra_deg: RA en degrés décimaux\n",
    "    :param dec_deg: Dec en degrés décimaux\n",
    "    :return: RA en HMS, Dec en DMS\n",
    "    \"\"\"\n",
    "    ra = Angle(ra_deg, unit=u.deg)\n",
    "    dec = Angle(dec_deg, unit=u.deg)\n",
    "\n",
    "    ra_hms = ra.to_string(unit=u.hourangle, sep=':', precision=2, pad=True)\n",
    "    dec_dms = dec.to_string(unit=u.deg, sep=':', precision=2, alwayssign=True, pad=True)\n",
    "\n",
    "    print(\"---- Résultats ----\")\n",
    "    print(f\"RA  (HMS) : {ra_hms}\")\n",
    "    print(f\"Dec (DMS): {dec_dms}\")\n",
    "\n",
    "    return ra_hms, dec_dms\n",
    "\n",
    "\n",
    "# Exemple d'utilisation :\n",
    "ra_deg = 3.5316102226559396 *180/np.pi    # RA = 217.42895°\n",
    "dec_deg = -0.6818331281576175 *180/np.pi   # Dec = -62.67948°\n",
    "\n",
    "convert_deg_to_ra_dec(ra_deg, dec_deg)"
   ]
  }
 ],
 "metadata": {
  "kernelspec": {
   "display_name": "Python 3",
   "language": "python",
   "name": "python3"
  },
  "language_info": {
   "codemirror_mode": {
    "name": "ipython",
    "version": 3
   },
   "file_extension": ".py",
   "mimetype": "text/x-python",
   "name": "python",
   "nbconvert_exporter": "python",
   "pygments_lexer": "ipython3",
   "version": "3.12.10"
  }
 },
 "nbformat": 4,
 "nbformat_minor": 5
}
